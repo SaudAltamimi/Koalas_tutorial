{
  "nbformat": 4,
  "nbformat_minor": 0,
  "metadata": {
    "kernelspec": {
      "display_name": "Python 3",
      "language": "python",
      "name": "python3"
    },
    "language_info": {
      "codemirror_mode": {
        "name": "ipython",
        "version": 3
      },
      "file_extension": ".py",
      "mimetype": "text/x-python",
      "name": "python",
      "nbconvert_exporter": "python",
      "pygments_lexer": "ipython3",
      "version": "3.5.5"
    },
    "colab": {
      "name": "koalas_session.ipynb",
      "provenance": [],
      "collapsed_sections": [
        "21pQzBXq3F-W"
      ],
      "include_colab_link": true
    },
    "accelerator": "GPU"
  },
  "cells": [
    {
      "cell_type": "markdown",
      "metadata": {
        "id": "view-in-github",
        "colab_type": "text"
      },
      "source": [
        "<a href=\"https://colab.research.google.com/github/SaudAltamimi/Koalas_tutorial/blob/master/koalas_session.ipynb\" target=\"_parent\"><img src=\"https://colab.research.google.com/assets/colab-badge.svg\" alt=\"Open In Colab\"/></a>"
      ]
    },
    {
      "cell_type": "markdown",
      "metadata": {
        "id": "CBPqODQIoldo",
        "colab_type": "text"
      },
      "source": [
        "## What is _Apache Spark_?"
      ]
    },
    {
      "cell_type": "markdown",
      "metadata": {
        "id": "ylNUAs9Vfl_6",
        "colab_type": "text"
      },
      "source": [
        "\n",
        "\n",
        "\n",
        "<img src=https://upload.wikimedia.org/wikipedia/commons/thumb/f/f3/Apache_Spark_logo.svg/1200px-Apache_Spark_logo.svg.png width=\"200\">"
      ]
    },
    {
      "cell_type": "markdown",
      "metadata": {
        "id": "OxIvAcUaoYAn",
        "colab_type": "text"
      },
      "source": [
        "> **_Apache Spark_** is a unified computing engine and a set of libraries for parallel data processing on [computer clusters](https://en.wikipedia.org/wiki/Computer_cluster).\n",
        "\n",
        "> Spark is the most actively developed open source engine for this task, making it a standard tool for any developer or data scientist interested in big data. \n",
        "\n",
        "> Spark supports multiple widely used programming languages (Python, Java, Scala, and R), includes libraries for diverse tasks ranging from SQL to streaming and machine learning, and runs anywhere from a laptop to a cluster of thousands of servers. \n",
        "\n",
        "> This makes it an easy system to start with and scale-up to **big data processing** or incredibly large scale.\n",
        "\n",
        "`Chambers, Bill; Zaharia, Matei. Spark: The Definitive Guide: Big Data Processing Made Simple. O'Reilly Media.`"
      ]
    },
    {
      "cell_type": "markdown",
      "metadata": {
        "id": "_FyY9BuFMiiB",
        "colab_type": "text"
      },
      "source": [
        "## What is [_Koalas_](https://koalas.readthedocs.io/en/latest/)?"
      ]
    },
    {
      "cell_type": "markdown",
      "metadata": {
        "id": "KposRzMieIML",
        "colab_type": "text"
      },
      "source": [
        "\n",
        "<img src=https://raw.githubusercontent.com/databricks/koalas/master/icons/koalas-logo.png width=\"200\">\n",
        "\n",
        "\n",
        "\n"
      ]
    },
    {
      "cell_type": "markdown",
      "metadata": {
        "id": "PDLfHtMaMoE5",
        "colab_type": "text"
      },
      "source": [
        "**pandas API on Apache Spark**\n",
        "\n",
        "The Koalas project makes data scientists & data engineers more productive when interacting with big data, by implementing the pandas DataFrame API on top of Apache Spark. **pandas** is the de facto standard (***single-node***) DataFrame implementation in Python, while **Spark** is the de facto standard for *big data processing*. With this package, you can:\n",
        "\n",
        "> Be immediately productive with Spark, with no learning curve, if you are already familiar with pandas.\n",
        "\n",
        "> Have a single codebase that works both with pandas (tests, smaller datasets) and with Spark (distributed datasets)."
      ]
    },
    {
      "cell_type": "markdown",
      "metadata": {
        "id": "dsELN6_xxAOB",
        "colab_type": "text"
      },
      "source": [
        "[Reducing Time-To-Insight for Virgin Hyperloop’s Data](https://koalas.readthedocs.io/en/latest/getting_started/videos_blogs.html#webinar-databricks-mar-27-2020)\n",
        "\n",
        "<img src=https://databricks.com/wp-content/uploads/2019/08/koalas-image4.png width=\"700\">"
      ]
    },
    {
      "cell_type": "markdown",
      "metadata": {
        "id": "21pQzBXq3F-W",
        "colab_type": "text"
      },
      "source": [
        "## Installations"
      ]
    },
    {
      "cell_type": "markdown",
      "metadata": {
        "id": "BwBl2o-D3YkO",
        "colab_type": "text"
      },
      "source": [
        "> First We need to install Java"
      ]
    },
    {
      "cell_type": "code",
      "metadata": {
        "id": "vtnCjKjk0CNa",
        "colab_type": "code",
        "colab": {}
      },
      "source": [
        "!apt-get install openjdk-8-jdk-headless -qq > /dev/null"
      ],
      "execution_count": null,
      "outputs": []
    },
    {
      "cell_type": "code",
      "metadata": {
        "id": "9SSYTgaZvvn5",
        "colab_type": "code",
        "colab": {}
      },
      "source": [
        "import os\n",
        "os.environ[\"JAVA_HOME\"] = \"/usr/lib/jvm/java-8-openjdk-amd64\""
      ],
      "execution_count": null,
      "outputs": []
    },
    {
      "cell_type": "code",
      "metadata": {
        "id": "PoGqCGR_dfJQ",
        "colab_type": "code",
        "colab": {
          "base_uri": "https://localhost:8080/",
          "height": 515
        },
        "outputId": "6d45f8ff-2721-4ff0-9d5f-15ce5070a11a"
      },
      "source": [
        "!pip install pyspark\n",
        "!pip install koalas"
      ],
      "execution_count": null,
      "outputs": [
        {
          "output_type": "stream",
          "text": [
            "Collecting pyspark\n",
            "\u001b[?25l  Downloading https://files.pythonhosted.org/packages/e9/e4/5c15ab8d354c4e3528510821865e6748209a9b0ff6a1788f4cd36cc2a5dc/pyspark-2.4.6.tar.gz (218.4MB)\n",
            "\u001b[K     |████████████████████████████████| 218.4MB 60kB/s \n",
            "\u001b[?25hCollecting py4j==0.10.7\n",
            "\u001b[?25l  Downloading https://files.pythonhosted.org/packages/e3/53/c737818eb9a7dc32a7cd4f1396e787bd94200c3997c72c1dbe028587bd76/py4j-0.10.7-py2.py3-none-any.whl (197kB)\n",
            "\u001b[K     |████████████████████████████████| 204kB 38.4MB/s \n",
            "\u001b[?25hBuilding wheels for collected packages: pyspark\n",
            "  Building wheel for pyspark (setup.py) ... \u001b[?25l\u001b[?25hdone\n",
            "  Created wheel for pyspark: filename=pyspark-2.4.6-py2.py3-none-any.whl size=218814406 sha256=670420fd8ad161ace72ba9c9979d8c3a2fdcb6ce4170894292d657967b1eb48e\n",
            "  Stored in directory: /root/.cache/pip/wheels/1e/5e/6a/17e906c94ec7246f260330a66e44a06a0809033ba2738a74a8\n",
            "Successfully built pyspark\n",
            "Installing collected packages: py4j, pyspark\n",
            "Successfully installed py4j-0.10.7 pyspark-2.4.6\n",
            "Collecting koalas\n",
            "\u001b[?25l  Downloading https://files.pythonhosted.org/packages/85/e3/e1a24f6e8d110ef03bf4023b75581a42583643b7f38a5245a086175b4053/koalas-0.33.0-py3-none-any.whl (964kB)\n",
            "\u001b[K     |████████████████████████████████| 972kB 2.8MB/s \n",
            "\u001b[?25hRequirement already satisfied: pandas>=0.23.2 in /usr/local/lib/python3.6/dist-packages (from koalas) (1.0.4)\n",
            "Requirement already satisfied: pyarrow>=0.10 in /usr/local/lib/python3.6/dist-packages (from koalas) (0.14.1)\n",
            "Requirement already satisfied: matplotlib>=3.0.0 in /usr/local/lib/python3.6/dist-packages (from koalas) (3.2.1)\n",
            "Requirement already satisfied: numpy>=1.14 in /usr/local/lib/python3.6/dist-packages (from koalas) (1.18.5)\n",
            "Requirement already satisfied: pytz>=2017.2 in /usr/local/lib/python3.6/dist-packages (from pandas>=0.23.2->koalas) (2018.9)\n",
            "Requirement already satisfied: python-dateutil>=2.6.1 in /usr/local/lib/python3.6/dist-packages (from pandas>=0.23.2->koalas) (2.8.1)\n",
            "Requirement already satisfied: six>=1.0.0 in /usr/local/lib/python3.6/dist-packages (from pyarrow>=0.10->koalas) (1.12.0)\n",
            "Requirement already satisfied: kiwisolver>=1.0.1 in /usr/local/lib/python3.6/dist-packages (from matplotlib>=3.0.0->koalas) (1.2.0)\n",
            "Requirement already satisfied: cycler>=0.10 in /usr/local/lib/python3.6/dist-packages (from matplotlib>=3.0.0->koalas) (0.10.0)\n",
            "Requirement already satisfied: pyparsing!=2.0.4,!=2.1.2,!=2.1.6,>=2.0.1 in /usr/local/lib/python3.6/dist-packages (from matplotlib>=3.0.0->koalas) (2.4.7)\n",
            "Installing collected packages: koalas\n",
            "Successfully installed koalas-0.33.0\n"
          ],
          "name": "stdout"
        }
      ]
    },
    {
      "cell_type": "code",
      "metadata": {
        "id": "JSKj-dGUsfuQ",
        "colab_type": "code",
        "colab": {}
      },
      "source": [
        "import pandas as pd \n",
        "import databricks.koalas as ks\n",
        "%matplotlib inline "
      ],
      "execution_count": null,
      "outputs": []
    },
    {
      "cell_type": "code",
      "metadata": {
        "id": "CCaVtp7Uv1pm",
        "colab_type": "code",
        "colab": {
          "base_uri": "https://localhost:8080/",
          "height": 195
        },
        "outputId": "01f3e841-055f-4934-a46a-19d98de3cfba"
      },
      "source": [
        "# if we check the sparkcontex? \n",
        "# Main entry point for Spark functionality. \n",
        "# A SparkContext represents the connection to a Spark cluster.\n",
        "\n",
        "from pyspark import SparkContext\n",
        "\n",
        "sc = SparkContext.getOrCreate()\n",
        "sc"
      ],
      "execution_count": null,
      "outputs": [
        {
          "output_type": "execute_result",
          "data": {
            "text/html": [
              "\n",
              "        <div>\n",
              "            <p><b>SparkContext</b></p>\n",
              "\n",
              "            <p><a href=\"http://7924c3b48299:4040\">Spark UI</a></p>\n",
              "\n",
              "            <dl>\n",
              "              <dt>Version</dt>\n",
              "                <dd><code>v2.4.6</code></dd>\n",
              "              <dt>Master</dt>\n",
              "                <dd><code>local[*]</code></dd>\n",
              "              <dt>AppName</dt>\n",
              "                <dd><code>pyspark-shell</code></dd>\n",
              "            </dl>\n",
              "        </div>\n",
              "        "
            ],
            "text/plain": [
              "<SparkContext master=local[*] appName=pyspark-shell>"
            ]
          },
          "metadata": {
            "tags": []
          },
          "execution_count": 5
        }
      ]
    },
    {
      "cell_type": "markdown",
      "metadata": {
        "id": "C2dqrq4yxCRc",
        "colab_type": "text"
      },
      "source": [
        "## Objectives"
      ]
    },
    {
      "cell_type": "markdown",
      "metadata": {
        "id": "McTytMzXwvyF",
        "colab_type": "text"
      },
      "source": [
        "You will learn:\n",
        "\n",
        "* Data Analysis using _koalas_. \n",
        "* Create transformations. \n",
        "* Aggregations.\n",
        "* Visualize results.\n",
        "* Pipelines."
      ]
    },
    {
      "cell_type": "markdown",
      "metadata": {
        "id": "UUS-mY0JsfuY",
        "colab_type": "text"
      },
      "source": [
        "## Dataset: Stanford Open Policing Project\n",
        "\n",
        "> https://openpolicing.stanford.edu/\n",
        "\n",
        "\n",
        "\n",
        "*   **_stop_date_**: The date of the stop, in YYYY-MM-DD format.\n",
        "*   **_stop_time_**: The 24-hour time of the stop, in HH:MM format.\n",
        "*   **_county_name_**: County name where provided.\n",
        "*   **_driver_gender_**: The recorded gender of the stopped driver.\n",
        "*   **_driver_age_raw_**: The year of driver birthdate.\n",
        "*   **_driver_age_**: The age of the stopped driver.\n",
        "*   **_driver_race_**: \tThe race of the stopped driver. Values are standardized to white, black, hispanic, asian/pacific islander, and other/unknown.\n",
        "*   **_violation_raw_**: Specific violation of stop where provided. What is recorded here varies widely across police departments.\n",
        "*   **_violation_**: Violations of stop where provided (standardized).\n",
        "*   **_search_conducted_**: Indicates whether any type of search was conducted, i.e. driver, passenger, vehicle. \n",
        "*   **_search_type_**: The type of the search if it was conducted.\n",
        "\n"
      ]
    },
    {
      "cell_type": "markdown",
      "metadata": {
        "id": "g6oluAx6_s2h",
        "colab_type": "text"
      },
      "source": [
        "> This Exercise inspired by a brilliant talk that was given by the great explainer **Kevin Makham** [pandas best practices](https://www.youtube.com/watch?v=hl-TGI4550M&list=PL5-da3qGB5IBITZj_dYSFqnd_15JgqwA6&index=2&t=4s), I would really encourage you to watch his talk if you feel you are not comfortable enough with pandas library, and by using this notebook, you will learn both **Pandas** & **Koalas**."
      ]
    },
    {
      "cell_type": "code",
      "metadata": {
        "id": "0tqLoA1qsfub",
        "colab_type": "code",
        "colab": {}
      },
      "source": [
        "# read the file\n",
        "path_to_file = 'police.csv'\n",
        "pdf = pd.read_csv(path_to_file)\n",
        "kdf = ks.read_csv(path_to_file)"
      ],
      "execution_count": null,
      "outputs": []
    },
    {
      "cell_type": "code",
      "metadata": {
        "id": "Pz40gOnosfue",
        "colab_type": "code",
        "colab": {
          "base_uri": "https://localhost:8080/",
          "height": 282
        },
        "outputId": "61f03f40-f2d2-423f-d6b4-500e79594f82"
      },
      "source": [
        "display(pdf.head(2))\n",
        "display(kdf.head(2))"
      ],
      "execution_count": null,
      "outputs": [
        {
          "output_type": "display_data",
          "data": {
            "text/html": [
              "<div>\n",
              "<style scoped>\n",
              "    .dataframe tbody tr th:only-of-type {\n",
              "        vertical-align: middle;\n",
              "    }\n",
              "\n",
              "    .dataframe tbody tr th {\n",
              "        vertical-align: top;\n",
              "    }\n",
              "\n",
              "    .dataframe thead th {\n",
              "        text-align: right;\n",
              "    }\n",
              "</style>\n",
              "<table border=\"1\" class=\"dataframe\">\n",
              "  <thead>\n",
              "    <tr style=\"text-align: right;\">\n",
              "      <th></th>\n",
              "      <th>stop_date</th>\n",
              "      <th>stop_time</th>\n",
              "      <th>county_name</th>\n",
              "      <th>driver_gender</th>\n",
              "      <th>driver_age_raw</th>\n",
              "      <th>driver_age</th>\n",
              "      <th>driver_race</th>\n",
              "      <th>violation_raw</th>\n",
              "      <th>violation</th>\n",
              "      <th>search_conducted</th>\n",
              "      <th>search_type</th>\n",
              "      <th>stop_outcome</th>\n",
              "      <th>is_arrested</th>\n",
              "      <th>stop_duration</th>\n",
              "      <th>drugs_related_stop</th>\n",
              "    </tr>\n",
              "  </thead>\n",
              "  <tbody>\n",
              "    <tr>\n",
              "      <th>0</th>\n",
              "      <td>2005-01-02</td>\n",
              "      <td>01:55</td>\n",
              "      <td>NaN</td>\n",
              "      <td>M</td>\n",
              "      <td>1985.0</td>\n",
              "      <td>20.0</td>\n",
              "      <td>White</td>\n",
              "      <td>Speeding</td>\n",
              "      <td>Speeding</td>\n",
              "      <td>False</td>\n",
              "      <td>NaN</td>\n",
              "      <td>Citation</td>\n",
              "      <td>False</td>\n",
              "      <td>0-15 Min</td>\n",
              "      <td>False</td>\n",
              "    </tr>\n",
              "    <tr>\n",
              "      <th>1</th>\n",
              "      <td>2005-01-18</td>\n",
              "      <td>08:15</td>\n",
              "      <td>NaN</td>\n",
              "      <td>M</td>\n",
              "      <td>1965.0</td>\n",
              "      <td>40.0</td>\n",
              "      <td>White</td>\n",
              "      <td>Speeding</td>\n",
              "      <td>Speeding</td>\n",
              "      <td>False</td>\n",
              "      <td>NaN</td>\n",
              "      <td>Citation</td>\n",
              "      <td>False</td>\n",
              "      <td>0-15 Min</td>\n",
              "      <td>False</td>\n",
              "    </tr>\n",
              "  </tbody>\n",
              "</table>\n",
              "</div>"
            ],
            "text/plain": [
              "    stop_date stop_time  ...  stop_duration drugs_related_stop\n",
              "0  2005-01-02     01:55  ...       0-15 Min              False\n",
              "1  2005-01-18     08:15  ...       0-15 Min              False\n",
              "\n",
              "[2 rows x 15 columns]"
            ]
          },
          "metadata": {
            "tags": []
          }
        },
        {
          "output_type": "display_data",
          "data": {
            "text/html": [
              "<div>\n",
              "<style scoped>\n",
              "    .dataframe tbody tr th:only-of-type {\n",
              "        vertical-align: middle;\n",
              "    }\n",
              "\n",
              "    .dataframe tbody tr th {\n",
              "        vertical-align: top;\n",
              "    }\n",
              "\n",
              "    .dataframe thead th {\n",
              "        text-align: right;\n",
              "    }\n",
              "</style>\n",
              "<table border=\"1\" class=\"dataframe\">\n",
              "  <thead>\n",
              "    <tr style=\"text-align: right;\">\n",
              "      <th></th>\n",
              "      <th>stop_date</th>\n",
              "      <th>stop_time</th>\n",
              "      <th>county_name</th>\n",
              "      <th>driver_gender</th>\n",
              "      <th>driver_age_raw</th>\n",
              "      <th>driver_age</th>\n",
              "      <th>driver_race</th>\n",
              "      <th>violation_raw</th>\n",
              "      <th>violation</th>\n",
              "      <th>search_conducted</th>\n",
              "      <th>search_type</th>\n",
              "      <th>stop_outcome</th>\n",
              "      <th>is_arrested</th>\n",
              "      <th>stop_duration</th>\n",
              "      <th>drugs_related_stop</th>\n",
              "    </tr>\n",
              "  </thead>\n",
              "  <tbody>\n",
              "    <tr>\n",
              "      <th>0</th>\n",
              "      <td>2005-01-02</td>\n",
              "      <td>01:55</td>\n",
              "      <td>None</td>\n",
              "      <td>M</td>\n",
              "      <td>1985.0</td>\n",
              "      <td>20.0</td>\n",
              "      <td>White</td>\n",
              "      <td>Speeding</td>\n",
              "      <td>Speeding</td>\n",
              "      <td>False</td>\n",
              "      <td>None</td>\n",
              "      <td>Citation</td>\n",
              "      <td>False</td>\n",
              "      <td>0-15 Min</td>\n",
              "      <td>False</td>\n",
              "    </tr>\n",
              "    <tr>\n",
              "      <th>1</th>\n",
              "      <td>2005-01-18</td>\n",
              "      <td>08:15</td>\n",
              "      <td>None</td>\n",
              "      <td>M</td>\n",
              "      <td>1965.0</td>\n",
              "      <td>40.0</td>\n",
              "      <td>White</td>\n",
              "      <td>Speeding</td>\n",
              "      <td>Speeding</td>\n",
              "      <td>False</td>\n",
              "      <td>None</td>\n",
              "      <td>Citation</td>\n",
              "      <td>False</td>\n",
              "      <td>0-15 Min</td>\n",
              "      <td>False</td>\n",
              "    </tr>\n",
              "  </tbody>\n",
              "</table>\n",
              "</div>"
            ],
            "text/plain": [
              "   stop_date stop_time county_name driver_gender  driver_age_raw  driver_age driver_race violation_raw violation  search_conducted search_type stop_outcome  is_arrested stop_duration  drugs_related_stop\n",
              "0 2005-01-02     01:55        None             M          1985.0        20.0       White      Speeding  Speeding             False        None     Citation        False      0-15 Min               False\n",
              "1 2005-01-18     08:15        None             M          1965.0        40.0       White      Speeding  Speeding             False        None     Citation        False      0-15 Min               False"
            ]
          },
          "metadata": {
            "tags": []
          }
        }
      ]
    },
    {
      "cell_type": "code",
      "metadata": {
        "id": "4gvc9aSDsfuk",
        "colab_type": "code",
        "colab": {
          "base_uri": "https://localhost:8080/",
          "height": 52
        },
        "outputId": "4391f87c-c71d-40ea-f06a-32d469d42f45"
      },
      "source": [
        "# Number of rows and columns?\n",
        "print(pdf.shape)\n",
        "print(kdf.shape)"
      ],
      "execution_count": null,
      "outputs": [
        {
          "output_type": "stream",
          "text": [
            "(91741, 15)\n",
            "(91741, 15)\n"
          ],
          "name": "stdout"
        }
      ]
    },
    {
      "cell_type": "code",
      "metadata": {
        "id": "WDrapps4sfum",
        "colab_type": "code",
        "colab": {}
      },
      "source": [
        "# dtypes?\n"
      ],
      "execution_count": null,
      "outputs": []
    },
    {
      "cell_type": "code",
      "metadata": {
        "id": "PnVzB7z7Am3t",
        "colab_type": "code",
        "colab": {}
      },
      "source": [
        "# adding columns?"
      ],
      "execution_count": null,
      "outputs": []
    },
    {
      "cell_type": "code",
      "metadata": {
        "id": "FHGDHQlWIkLL",
        "colab_type": "code",
        "colab": {}
      },
      "source": [
        "#nulls?\n"
      ],
      "execution_count": null,
      "outputs": []
    },
    {
      "cell_type": "markdown",
      "metadata": {
        "id": "gcNgkW7miv0-",
        "colab_type": "text"
      },
      "source": [
        "## Data Analysis"
      ]
    },
    {
      "cell_type": "markdown",
      "metadata": {
        "id": "w2chi7Fjsfuq",
        "colab_type": "text"
      },
      "source": [
        "### 1. Remove the column that only contains missing values "
      ]
    },
    {
      "cell_type": "code",
      "metadata": {
        "id": "2ZfDntmOsfuq",
        "colab_type": "code",
        "colab": {}
      },
      "source": [
        ""
      ],
      "execution_count": null,
      "outputs": []
    },
    {
      "cell_type": "code",
      "metadata": {
        "id": "b0KG6_MA_ROh",
        "colab_type": "code",
        "colab": {}
      },
      "source": [
        ""
      ],
      "execution_count": null,
      "outputs": []
    },
    {
      "cell_type": "markdown",
      "metadata": {
        "id": "L2BLuuoPsfus",
        "colab_type": "text"
      },
      "source": [
        "### 2. Do men or women speed more often?"
      ]
    },
    {
      "cell_type": "code",
      "metadata": {
        "id": "tTVbib_vsfus",
        "colab_type": "code",
        "colab": {}
      },
      "source": [
        "# when someone is stopped for speeding, how often is it a man or woman?\n"
      ],
      "execution_count": null,
      "outputs": []
    },
    {
      "cell_type": "code",
      "metadata": {
        "id": "ywF9NHbJsfut",
        "colab_type": "code",
        "colab": {}
      },
      "source": [
        "# when a man is pulled over, how often is it for speeding?\n"
      ],
      "execution_count": null,
      "outputs": []
    },
    {
      "cell_type": "code",
      "metadata": {
        "id": "ZVlEPmI-sfuu",
        "colab_type": "code",
        "colab": {}
      },
      "source": [
        "# repeat for women\n"
      ],
      "execution_count": null,
      "outputs": []
    },
    {
      "cell_type": "markdown",
      "metadata": {
        "id": "YgK52fGjsfuw",
        "colab_type": "text"
      },
      "source": [
        "### 3. Does gender affect who gets searched during a stop? "
      ]
    },
    {
      "cell_type": "code",
      "metadata": {
        "id": "vZKlb338sfuw",
        "colab_type": "code",
        "colab": {}
      },
      "source": [
        "#ignore gender for the moment\n",
        "#using pandas"
      ],
      "execution_count": null,
      "outputs": []
    },
    {
      "cell_type": "code",
      "metadata": {
        "id": "4cX52dGXyZIy",
        "colab_type": "code",
        "colab": {}
      },
      "source": [
        "#using koalas\n",
        "#for females\n"
      ],
      "execution_count": null,
      "outputs": []
    },
    {
      "cell_type": "code",
      "metadata": {
        "id": "tCQ9IP-9sfux",
        "colab_type": "code",
        "colab": {}
      },
      "source": [
        "# search rate by gender\n"
      ],
      "execution_count": null,
      "outputs": []
    },
    {
      "cell_type": "markdown",
      "metadata": {
        "id": "mUjG4DP0sfuz",
        "colab_type": "text"
      },
      "source": [
        "### 5. During a search, how often is the driver frisked? "
      ]
    },
    {
      "cell_type": "code",
      "metadata": {
        "id": "L44mriefeV0b",
        "colab_type": "code",
        "colab": {}
      },
      "source": [
        "# (hint: search_type column)\n",
        "# there is a problem in this column !! ? \n",
        "\n"
      ],
      "execution_count": null,
      "outputs": []
    },
    {
      "cell_type": "markdown",
      "metadata": {
        "id": "r1FaQeWKsfu0",
        "colab_type": "text"
      },
      "source": [
        "### 6. Which year had the least number of stops?"
      ]
    },
    {
      "cell_type": "code",
      "metadata": {
        "id": "3v-jJ9mFsfu0",
        "colab_type": "code",
        "colab": {}
      },
      "source": [
        ""
      ],
      "execution_count": null,
      "outputs": []
    },
    {
      "cell_type": "markdown",
      "metadata": {
        "id": "Beztr5V4sfu1",
        "colab_type": "text"
      },
      "source": [
        "### 7. Do most stops occur at night?"
      ]
    },
    {
      "cell_type": "code",
      "metadata": {
        "id": "QZZzl493sfu1",
        "colab_type": "code",
        "colab": {}
      },
      "source": [
        ""
      ],
      "execution_count": null,
      "outputs": []
    },
    {
      "cell_type": "markdown",
      "metadata": {
        "id": "kgpmxXA3sfu3",
        "colab_type": "text"
      },
      "source": [
        "### 9. Pretend you don't have the driver_age column, and create it from driver_age_raw (and call it new_age)"
      ]
    },
    {
      "cell_type": "code",
      "metadata": {
        "id": "Nd6hfsMssfu3",
        "colab_type": "code",
        "colab": {}
      },
      "source": [
        ""
      ],
      "execution_count": null,
      "outputs": []
    },
    {
      "cell_type": "markdown",
      "metadata": {
        "id": "8JjzbKoYsfu4",
        "colab_type": "text"
      },
      "source": [
        "### 10. How does drug activity change by time of day? "
      ]
    },
    {
      "cell_type": "code",
      "metadata": {
        "id": "nsOVVWyssfu4",
        "colab_type": "code",
        "colab": {}
      },
      "source": [
        "#(hint: group by hours)\n"
      ],
      "execution_count": null,
      "outputs": []
    },
    {
      "cell_type": "markdown",
      "metadata": {
        "id": "w-v2LRvLB5ZG",
        "colab_type": "text"
      },
      "source": [
        "## Bonus: pipelines"
      ]
    },
    {
      "cell_type": "markdown",
      "metadata": {
        "id": "jo-f3vP6EwKj",
        "colab_type": "text"
      },
      "source": [
        "The ability to write data transformation pipelines that are easy to understand by others is a great skill to have. Orgnizing your transformation steps using the `pipe` method will help you learn this easily & intuitivly.\n",
        "\n",
        "> Inspired by the amazing ***Vincent D. Warmerdam*** and his talk [Untitled12.ipynb](https://www.youtube.com/watch?v=yXGCKqo5cEY&t=685s)\n",
        "\n",
        "> If you feel that you need to optimize one of the function by interacting  directly with `pyspark`, you can simply use (`spark_df = kdf.to_spark()`) and write your code in `pyspark`, then finally return the results as a Koalas dataframe (`return ks.DataFrame(spark_df)`).\n",
        "\n",
        "> Type hints are crucial for Koalas performance, check [here](https://koalas.readthedocs.io/en/latest/user_guide/typehints.html#type-hints-in-koalas)\n"
      ]
    },
    {
      "cell_type": "code",
      "metadata": {
        "id": "S65QfMtyCciu",
        "colab_type": "code",
        "colab": {}
      },
      "source": [
        ""
      ],
      "execution_count": null,
      "outputs": []
    },
    {
      "cell_type": "markdown",
      "metadata": {
        "id": "7BG9Myn1Dkhb",
        "colab_type": "text"
      },
      "source": [
        "## Bonus: SQL API"
      ]
    },
    {
      "cell_type": "code",
      "metadata": {
        "id": "yvaQXn6S7pUh",
        "colab_type": "code",
        "colab": {}
      },
      "source": [
        ""
      ],
      "execution_count": null,
      "outputs": []
    }
  ]
}